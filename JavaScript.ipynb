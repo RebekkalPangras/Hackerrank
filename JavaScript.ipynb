{
  "nbformat": 4,
  "nbformat_minor": 0,
  "metadata": {
    "colab": {
      "name": "Untitled46.ipynb",
      "provenance": [],
      "authorship_tag": "ABX9TyP8DgmLT8NWuOBszrev7UPw",
      "include_colab_link": true
    },
    "kernelspec": {
      "name": "python3",
      "display_name": "Python 3"
    },
    "language_info": {
      "name": "python"
    }
  },
  "cells": [
    {
      "cell_type": "markdown",
      "metadata": {
        "id": "view-in-github",
        "colab_type": "text"
      },
      "source": [
        "<a href=\"https://colab.research.google.com/github/RebekkalPangras/Hackerrank/blob/master/JavaScript.ipynb\" target=\"_parent\"><img src=\"https://colab.research.google.com/assets/colab-badge.svg\" alt=\"Open In Colab\"/></a>"
      ]
    },
    {
      "cell_type": "markdown",
      "metadata": {
        "id": "OMRV5tYxzjKC"
      },
      "source": [
        "## Overview: 10 Days of JavaScript\n",
        "\n",
        "Use console.log() to print the contents of the parameter"
      ]
    },
    {
      "cell_type": "code",
      "metadata": {
        "id": "vi6V-QSD0Hn6"
      },
      "source": [
        "'use strict';\n",
        "\n",
        "process.stdin.resume();\n",
        "process.stdin.setEncoding('utf-8');\n",
        "\n",
        "let inputString = '';\n",
        "let currentLine = 0;\n",
        "\n",
        "process.stdin.on('data', inputStdin => {\n",
        "    inputString += inputStdin;\n",
        "});\n",
        "\n",
        "process.stdin.on('end', _ => {\n",
        "    inputString = inputString.trim().split('\\n').map(string => {\n",
        "        return string.trim();\n",
        "    });\n",
        "    \n",
        "    main();    \n",
        "});\n",
        "\n",
        "function readLine() {\n",
        "    return inputString[currentLine++];\n",
        "}\n",
        "\n",
        "/**\n",
        "*   A line of code that prints \"Hello, World!\" on a new line is provided in the editor. \n",
        "*   Write a second line of code that prints the contents of 'parameterVariable' on a new line.\n",
        "*\n",
        "*\tParameter:\n",
        "*   parameterVariable - A string of text.\n",
        "**/\n",
        "function greeting(parameterVariable) {\n",
        "    // This line prints 'Hello, World!' to the console:\n",
        "    console.log('Hello, World!');\n",
        "\n",
        "    // Write a line of code that prints parameterVariable to stdout using console.log:\n",
        "    console.log(parameterVariable);\n",
        "}"
      ],
      "execution_count": null,
      "outputs": []
    },
    {
      "cell_type": "markdown",
      "metadata": {
        "id": "AlqtORr7WlQY"
      },
      "source": [
        "## Day 0: Data Types\n",
        "\n",
        "Variables named , , and  are declared for you in the editor below. You must use the  operator to perform the following sequence of operations:\n",
        "\n",
        " 1. Convert  to an integer (Number type), then sum it with  and print the result on a new line using console.log.\n",
        " 2. Convert  to a floating-point number (Number type), then sum it with  and print the result on a new line using console.log.\n",
        " 3. Print the concatenation of  and  on a new line using console.log. Note that  must be printed first."
      ]
    },
    {
      "cell_type": "code",
      "metadata": {
        "id": "YgDwZwGzWwm3"
      },
      "source": [
        "/**\n",
        "*   The variables 'firstInteger', 'firstDecimal', and 'firstString' are declared for you -- do not modify them.\n",
        "*   Print three lines:\n",
        "*   1. The sum of 'firstInteger' and the Number representation of 'secondInteger'.\n",
        "*   2. The sum of 'firstDecimal' and the Number representation of 'secondDecimal'.\n",
        "*   3. The concatenation of 'firstString' and 'secondString' ('firstString' must be first).\n",
        "*\n",
        "*\tParameter(s):\n",
        "*   secondInteger - The string representation of an integer.\n",
        "*   secondDecimal - The string representation of a floating-point number.\n",
        "*   secondString - A string consisting of one or more space-separated words.\n",
        "**/\n",
        "function performOperation(secondInteger, secondDecimal, secondString) {\n",
        "    // Declare a variable named 'firstInteger' and initialize with integer value 4.\n",
        "    const firstInteger = 4;\n",
        "    \n",
        "    // Declare a variable named 'firstDecimal' and initialize with floating-point value 4.0.\n",
        "    const firstDecimal = 4.0;\n",
        "    \n",
        "    // Declare a variable named 'firstString' and initialize with the string \"HackerRank\".\n",
        "    const firstString = 'HackerRank ';\n",
        "    \n",
        "    // Write code that uses console.log to print the sum of the 'firstInteger' and 'secondInteger' (converted to a Number        type) on a new line.\n",
        "    console.log(parseInt(secondInteger)+firstInteger);\n",
        "    \n",
        "    // Write code that uses console.log to print the sum of 'firstDecimal' and 'secondDecimal' (converted to a Number            type) on a new line.\n",
        "    console.log(Number(secondDecimal)+firstDecimal);\n",
        "    \n",
        "    // Write code that uses console.log to print the concatenation of 'firstString' and 'secondString' on a new line. The        variable 'firstString' must be printed first.\n",
        "    console.log(firstString+secondString);\n",
        "}\n",
        "\n",
        "\n",
        "function main() {\n",
        "    const secondInteger = readLine();\n",
        "    const secondDecimal = readLine();\n",
        "    const secondString = readLine();\n",
        "    \n",
        "    performOperation(secondInteger, secondDecimal, secondString);\n",
        "}"
      ],
      "execution_count": null,
      "outputs": []
    },
    {
      "cell_type": "markdown",
      "metadata": {
        "id": "qwASX8AMDZnw"
      },
      "source": [
        "## Day 1: Arithmetic Operators\n",
        "\n"
      ]
    },
    {
      "cell_type": "code",
      "metadata": {
        "id": "mYryCHPuDal-"
      },
      "source": [
        "'use strict';\n",
        "\n",
        "process.stdin.resume();\n",
        "process.stdin.setEncoding('utf-8');\n",
        "\n",
        "let inputString = '';\n",
        "let currentLine = 0;\n",
        "\n",
        "process.stdin.on('data', inputStdin => {\n",
        "    inputString += inputStdin;\n",
        "});\n",
        "\n",
        "process.stdin.on('end', _ => {\n",
        "    inputString = inputString.trim().split('\\n').map(string => {\n",
        "        return string.trim();\n",
        "    });\n",
        "    \n",
        "    main();    \n",
        "});\n",
        "\n",
        "function readLine() {\n",
        "    return inputString[currentLine++];\n",
        "}\n",
        "\n",
        "/**\n",
        "*   Calculate the area of a rectangle.\n",
        "*\n",
        "*   length: The length of the rectangle.\n",
        "*   width: The width of the rectangle.\n",
        "*   \n",
        "*\tReturn a number denoting the rectangle's area.\n",
        "**/\n",
        "function getArea(length, width) {\n",
        "    let area;\n",
        "    // Write your code here\n",
        "    area = length*width\n",
        "    return area;\n",
        "}\n",
        "\n",
        "/**\n",
        "*   Calculate the perimeter of a rectangle.\n",
        "*\t\n",
        "*\tlength: The length of the rectangle.\n",
        "*   width: The width of the rectangle.\n",
        "*   \n",
        "*\tReturn a number denoting the perimeter of a rectangle.\n",
        "**/\n",
        "function getPerimeter(length, width) {\n",
        "    let perimeter;\n",
        "    // Write your code here\n",
        "    perimeter = 2*(length + width)\n",
        "    return perimeter;\n",
        "}"
      ],
      "execution_count": null,
      "outputs": []
    },
    {
      "cell_type": "markdown",
      "metadata": {
        "id": "IyBpD9wwOuY6"
      },
      "source": [
        "## Day 1: Functions\n",
        "\n",
        "Implement a function named factorial that has one parameter and return the factorial of the number"
      ]
    },
    {
      "cell_type": "code",
      "metadata": {
        "id": "ZNlqToKEOwas"
      },
      "source": [
        "'use strict';\n",
        "\n",
        "process.stdin.resume();\n",
        "process.stdin.setEncoding('utf-8');\n",
        "\n",
        "let inputString = '';\n",
        "let currentLine = 0;\n",
        "\n",
        "process.stdin.on('data', inputStdin => {\n",
        "    inputString += inputStdin;\n",
        "});\n",
        "\n",
        "process.stdin.on('end', _ => {\n",
        "    inputString = inputString.trim().split('\\n').map(string => {\n",
        "        return string.trim();\n",
        "    });\n",
        "    \n",
        "    main();    \n",
        "});\n",
        "\n",
        "function readLine() {\n",
        "    return inputString[currentLine++];\n",
        "}\n",
        "/*\n",
        " * Create the function factorial here\n",
        " */\n",
        "function factorial(n) {\n",
        "    if (n == 1) {\n",
        "        return n;        \n",
        "    } else {\n",
        "        return n*factorial(n-1)  }\n",
        "}\n",
        "\n",
        "function main() {\n",
        "    const n = +(readLine());\n",
        "    \n",
        "    console.log(factorial(n));\n",
        "}"
      ],
      "execution_count": null,
      "outputs": []
    },
    {
      "cell_type": "markdown",
      "metadata": {
        "id": "UIBDm74Di-wl"
      },
      "source": [
        "## Day 1: Let and Const\n",
        "\n",
        "1. Read the radius of the circle\n",
        "2. Load PI value from Math.PI\n",
        "3. Calculate the Area and Perimeter of the circle using the radius\n",
        "4. Print the Area and Perimeter of the circle"
      ]
    },
    {
      "cell_type": "code",
      "metadata": {
        "id": "iuo6zKgajSbl"
      },
      "source": [
        "'use strict';\n",
        "\n",
        "process.stdin.resume();\n",
        "process.stdin.setEncoding('utf-8');\n",
        "\n",
        "let inputString = '';\n",
        "let currentLine = 0;\n",
        "\n",
        "process.stdin.on('data', inputStdin => {\n",
        "    inputString += inputStdin;\n",
        "});\n",
        "\n",
        "process.stdin.on('end', _ => {\n",
        "    inputString = inputString.trim().split('\\n').map(string => {\n",
        "        return string.trim();\n",
        "    });\n",
        "    \n",
        "    main();    \n",
        "});\n",
        "\n",
        "function readLine() {\n",
        "    return inputString[currentLine++];\n",
        "}\n",
        "\n",
        "function main() {\n",
        "    // Write your code here. Read input using 'readLine()' and print output using 'console.log()'.\n",
        "    const PI = Math.PI;\n",
        "    var radius = readLine();\n",
        "    // Print the area of the circle:\n",
        "    var area = PI*radius*radius;\n",
        "    console.log(area);\n",
        "    // Print the perimeter of the circle:\n",
        "    var perimeter = 2*PI*radius;\n",
        "    console.log(perimeter);\n",
        "    try {    \n",
        "        // Attempt to redefine the value of constant variable PI\n",
        "        PI = 0;\n",
        "        // Attempt to print the value of PI\n",
        "        console.log(PI);\n",
        "    } catch(error) {\n",
        "        console.error(\"You correctly declared 'PI' as a constant.\");\n",
        "    }\n",
        "}"
      ],
      "execution_count": null,
      "outputs": []
    },
    {
      "cell_type": "markdown",
      "metadata": {
        "id": "_FRlRV8rLtHp"
      },
      "source": [
        "## Day 2: Conditional Statements: If-Else\n",
        "\n",
        "\n",
        "Complete the getGrade(score) function in the editor. It has one parameter: an integer, score, denoting the number of points Julia earned on an exam. It must return the letter corresponding to her grade according to the following rules:\n",
        "\n",
        "\n",
        "    If (25 < score <= 30), then grade = A.\n",
        "    If (20 < score <= 25), then grade = B.\n",
        "    If (15 < score <= 20), then grade = C.\n",
        "    If (10 < score <= 15), then grade = D.\n",
        "    If (5 < score <= 10), then grade = E.\n",
        "    If (0 < score <= 5), then grade = F.\n"
      ]
    },
    {
      "cell_type": "code",
      "metadata": {
        "id": "bdAAh-w0L_rs"
      },
      "source": [
        "function getGrade(score) {\n",
        "    let grade;\n",
        "    if(score>0){\n",
        "        if(score>5){\n",
        "            if(score>10){\n",
        "                if(score>15){\n",
        "                    if(score>20){\n",
        "                        if(score>25&&score<=30){\n",
        "                            grade = 'A';\n",
        "                        } else {\n",
        "                            grade = 'B';\n",
        "                        }\n",
        "                    } else {\n",
        "                        grade = 'C';                        \n",
        "                    }\n",
        "                } else {\n",
        "                    grade = 'D';                    \n",
        "                }\n",
        "            } else {\n",
        "                grade = 'E';\n",
        "            }\n",
        "        } else {\n",
        "            grade = 'F';            \n",
        "        }\n",
        "    }    \n",
        "    return grade;\n",
        "}\n",
        "\n",
        "function main() {\n",
        "    const score = +(readLine());\n",
        "    \n",
        "    console.log(getGrade(score));\n",
        "}"
      ],
      "execution_count": null,
      "outputs": []
    },
    {
      "cell_type": "markdown",
      "metadata": {
        "id": "vLCYdrVQxyZB"
      },
      "source": [
        "## Day 2: Conditional Statements: Switch"
      ]
    },
    {
      "cell_type": "code",
      "metadata": {
        "id": "WuRcXREpx0Ok"
      },
      "source": [
        "function getLetter(s) {\n",
        "    let letter;\n",
        "    // Write your code here\n",
        "    switch (true) {\n",
        "        case 'aeiou'.includes(s[0]):\n",
        "            letter = 'A';\n",
        "            break;\n",
        "        case 'bcdfg'.includes(s[0]):\n",
        "            letter = 'B';\n",
        "            break;\n",
        "        case 'hjklm'.includes(s[0]):\n",
        "            letter = 'C';\n",
        "            break;\n",
        "        case 'npqrstvwxyz'.includes(s[0]):\n",
        "            letter = 'D';\n",
        "            break;\n",
        "    }\n",
        "    return letter;\n",
        "}"
      ],
      "execution_count": null,
      "outputs": []
    },
    {
      "cell_type": "markdown",
      "metadata": {
        "id": "gVJ_D12vlyjZ"
      },
      "source": [
        "## Day 2: Loops\n",
        "\n"
      ]
    },
    {
      "cell_type": "code",
      "metadata": {
        "id": "P9Ow_bM9mbip"
      },
      "source": [
        "function vowelsAndConsonants(s) {\n",
        "    for(var letter of s) {\n",
        "        if('aeiou'.includes(letter)){\n",
        "            console.log(letter);\n",
        "        }\n",
        "    }\n",
        "    for(var letter of s) {\n",
        "        if(!('aeiou'.includes(letter))){\n",
        "            console.log(letter);\n",
        "        }\n",
        "    }\n",
        "}"
      ],
      "execution_count": null,
      "outputs": []
    },
    {
      "cell_type": "markdown",
      "metadata": {
        "id": "FqgVKZtZyvmw"
      },
      "source": [
        "## Day 3: Arrays\n",
        "\n"
      ]
    },
    {
      "cell_type": "code",
      "metadata": {
        "id": "GQCooPjRyxIl"
      },
      "source": [
        "/**\n",
        "*   Return the second largest number in the array.\n",
        "*   @param {Number[]} nums - An array of numbers.\n",
        "*   @return {Number} The second largest number in the array.\n",
        "**/\n",
        "\n",
        "function getSecondLargest(nums) {\n",
        "    // Complete the function\n",
        "    let sorted_num = nums.sort();\n",
        "    sorted_num = [...new Set(sorted_num)];\n",
        "    return sorted_num[sorted_num.length - 2];\n",
        "}"
      ],
      "execution_count": null,
      "outputs": []
    },
    {
      "cell_type": "markdown",
      "metadata": {
        "id": "9cRRZ_vs7fPh"
      },
      "source": [
        ""
      ]
    },
    {
      "cell_type": "code",
      "metadata": {
        "id": "4QcoN1COyxj3"
      },
      "source": [
        ""
      ],
      "execution_count": null,
      "outputs": []
    }
  ]
}