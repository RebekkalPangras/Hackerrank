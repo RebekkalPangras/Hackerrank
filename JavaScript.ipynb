{
  "nbformat": 4,
  "nbformat_minor": 0,
  "metadata": {
    "colab": {
      "name": "Untitled46.ipynb",
      "provenance": [],
      "authorship_tag": "ABX9TyNTmIUPouV0TihOOFRECnmc",
      "include_colab_link": true
    },
    "kernelspec": {
      "name": "python3",
      "display_name": "Python 3"
    },
    "language_info": {
      "name": "python"
    }
  },
  "cells": [
    {
      "cell_type": "markdown",
      "metadata": {
        "id": "view-in-github",
        "colab_type": "text"
      },
      "source": [
        "<a href=\"https://colab.research.google.com/github/RebekkalPangras/Hackerrank/blob/master/JavaScript.ipynb\" target=\"_parent\"><img src=\"https://colab.research.google.com/assets/colab-badge.svg\" alt=\"Open In Colab\"/></a>"
      ]
    },
    {
      "cell_type": "markdown",
      "metadata": {
        "id": "OMRV5tYxzjKC"
      },
      "source": [
        "## Overview: 10 Days of JavaScript\n",
        "\n",
        "Use console.log() to print the contents of the parameter"
      ]
    },
    {
      "cell_type": "code",
      "metadata": {
        "id": "vi6V-QSD0Hn6"
      },
      "source": [
        "'use strict';\n",
        "\n",
        "process.stdin.resume();\n",
        "process.stdin.setEncoding('utf-8');\n",
        "\n",
        "let inputString = '';\n",
        "let currentLine = 0;\n",
        "\n",
        "process.stdin.on('data', inputStdin => {\n",
        "    inputString += inputStdin;\n",
        "});\n",
        "\n",
        "process.stdin.on('end', _ => {\n",
        "    inputString = inputString.trim().split('\\n').map(string => {\n",
        "        return string.trim();\n",
        "    });\n",
        "    \n",
        "    main();    \n",
        "});\n",
        "\n",
        "function readLine() {\n",
        "    return inputString[currentLine++];\n",
        "}\n",
        "\n",
        "/**\n",
        "*   A line of code that prints \"Hello, World!\" on a new line is provided in the editor. \n",
        "*   Write a second line of code that prints the contents of 'parameterVariable' on a new line.\n",
        "*\n",
        "*\tParameter:\n",
        "*   parameterVariable - A string of text.\n",
        "**/\n",
        "function greeting(parameterVariable) {\n",
        "    // This line prints 'Hello, World!' to the console:\n",
        "    console.log('Hello, World!');\n",
        "\n",
        "    // Write a line of code that prints parameterVariable to stdout using console.log:\n",
        "    console.log(parameterVariable);\n",
        "}"
      ],
      "execution_count": null,
      "outputs": []
    },
    {
      "cell_type": "markdown",
      "metadata": {
        "id": "AlqtORr7WlQY"
      },
      "source": [
        "## Day 0: Data Types\n",
        "\n",
        "Variables named , , and  are declared for you in the editor below. You must use the  operator to perform the following sequence of operations:\n",
        "\n",
        " 1. Convert  to an integer (Number type), then sum it with  and print the result on a new line using console.log.\n",
        " 2. Convert  to a floating-point number (Number type), then sum it with  and print the result on a new line using console.log.\n",
        " 3. Print the concatenation of  and  on a new line using console.log. Note that  must be printed first."
      ]
    },
    {
      "cell_type": "code",
      "metadata": {
        "id": "YgDwZwGzWwm3"
      },
      "source": [
        "/**\n",
        "*   The variables 'firstInteger', 'firstDecimal', and 'firstString' are declared for you -- do not modify them.\n",
        "*   Print three lines:\n",
        "*   1. The sum of 'firstInteger' and the Number representation of 'secondInteger'.\n",
        "*   2. The sum of 'firstDecimal' and the Number representation of 'secondDecimal'.\n",
        "*   3. The concatenation of 'firstString' and 'secondString' ('firstString' must be first).\n",
        "*\n",
        "*\tParameter(s):\n",
        "*   secondInteger - The string representation of an integer.\n",
        "*   secondDecimal - The string representation of a floating-point number.\n",
        "*   secondString - A string consisting of one or more space-separated words.\n",
        "**/\n",
        "function performOperation(secondInteger, secondDecimal, secondString) {\n",
        "    // Declare a variable named 'firstInteger' and initialize with integer value 4.\n",
        "    const firstInteger = 4;\n",
        "    \n",
        "    // Declare a variable named 'firstDecimal' and initialize with floating-point value 4.0.\n",
        "    const firstDecimal = 4.0;\n",
        "    \n",
        "    // Declare a variable named 'firstString' and initialize with the string \"HackerRank\".\n",
        "    const firstString = 'HackerRank ';\n",
        "    \n",
        "    // Write code that uses console.log to print the sum of the 'firstInteger' and 'secondInteger' (converted to a Number        type) on a new line.\n",
        "    console.log(parseInt(secondInteger)+firstInteger);\n",
        "    \n",
        "    // Write code that uses console.log to print the sum of 'firstDecimal' and 'secondDecimal' (converted to a Number            type) on a new line.\n",
        "    console.log(Number(secondDecimal)+firstDecimal);\n",
        "    \n",
        "    // Write code that uses console.log to print the concatenation of 'firstString' and 'secondString' on a new line. The        variable 'firstString' must be printed first.\n",
        "    console.log(firstString+secondString);\n",
        "}\n",
        "\n",
        "\n",
        "function main() {\n",
        "    const secondInteger = readLine();\n",
        "    const secondDecimal = readLine();\n",
        "    const secondString = readLine();\n",
        "    \n",
        "    performOperation(secondInteger, secondDecimal, secondString);\n",
        "}"
      ],
      "execution_count": null,
      "outputs": []
    }
  ]
}