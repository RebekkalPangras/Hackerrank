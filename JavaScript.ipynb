{
  "nbformat": 4,
  "nbformat_minor": 0,
  "metadata": {
    "colab": {
      "name": "Untitled46.ipynb",
      "provenance": [],
      "authorship_tag": "ABX9TyP6NeoDT0KC+OIANAlVS9BB",
      "include_colab_link": true
    },
    "kernelspec": {
      "name": "python3",
      "display_name": "Python 3"
    },
    "language_info": {
      "name": "python"
    }
  },
  "cells": [
    {
      "cell_type": "markdown",
      "metadata": {
        "id": "view-in-github",
        "colab_type": "text"
      },
      "source": [
        "<a href=\"https://colab.research.google.com/github/RebekkalPangras/Hackerrank/blob/master/JavaScript.ipynb\" target=\"_parent\"><img src=\"https://colab.research.google.com/assets/colab-badge.svg\" alt=\"Open In Colab\"/></a>"
      ]
    },
    {
      "cell_type": "markdown",
      "metadata": {
        "id": "OMRV5tYxzjKC"
      },
      "source": [
        "## Overview: 10 Days of JavaScript\n",
        "\n",
        "Use console.log() to print the contents of the parameter"
      ]
    },
    {
      "cell_type": "code",
      "metadata": {
        "id": "vi6V-QSD0Hn6"
      },
      "source": [
        "'use strict';\n",
        "\n",
        "process.stdin.resume();\n",
        "process.stdin.setEncoding('utf-8');\n",
        "\n",
        "let inputString = '';\n",
        "let currentLine = 0;\n",
        "\n",
        "process.stdin.on('data', inputStdin => {\n",
        "    inputString += inputStdin;\n",
        "});\n",
        "\n",
        "process.stdin.on('end', _ => {\n",
        "    inputString = inputString.trim().split('\\n').map(string => {\n",
        "        return string.trim();\n",
        "    });\n",
        "    \n",
        "    main();    \n",
        "});\n",
        "\n",
        "function readLine() {\n",
        "    return inputString[currentLine++];\n",
        "}\n",
        "\n",
        "/**\n",
        "*   A line of code that prints \"Hello, World!\" on a new line is provided in the editor. \n",
        "*   Write a second line of code that prints the contents of 'parameterVariable' on a new line.\n",
        "*\n",
        "*\tParameter:\n",
        "*   parameterVariable - A string of text.\n",
        "**/\n",
        "function greeting(parameterVariable) {\n",
        "    // This line prints 'Hello, World!' to the console:\n",
        "    console.log('Hello, World!');\n",
        "\n",
        "    // Write a line of code that prints parameterVariable to stdout using console.log:\n",
        "    console.log(parameterVariable);\n",
        "}"
      ],
      "execution_count": null,
      "outputs": []
    }
  ]
}