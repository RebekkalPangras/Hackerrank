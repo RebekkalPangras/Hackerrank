{
  "nbformat": 4,
  "nbformat_minor": 0,
  "metadata": {
    "colab": {
      "name": "HackerrankPractice",
      "provenance": [],
      "authorship_tag": "ABX9TyNk1W8ieQEyLa0UU519duds",
      "include_colab_link": true
    },
    "kernelspec": {
      "name": "python3",
      "display_name": "Python 3"
    },
    "language_info": {
      "name": "python"
    }
  },
  "cells": [
    {
      "cell_type": "markdown",
      "metadata": {
        "id": "view-in-github",
        "colab_type": "text"
      },
      "source": [
        "<a href=\"https://colab.research.google.com/github/RebekkalPangras/Hackerrank/blob/master/HackerrankPractice.ipynb\" target=\"_parent\"><img src=\"https://colab.research.google.com/assets/colab-badge.svg\" alt=\"Open In Colab\"/></a>"
      ]
    },
    {
      "cell_type": "markdown",
      "metadata": {
        "id": "DQVmEdzJIpzX"
      },
      "source": [
        "Task\n",
        "\n",
        "Given a string, S, of length N that is indexed from 0 to N-1, print its even-indexed and odd-indexed characters as 2 space-separated strings on a single line (see the Sample below for more detail).\n",
        "\n",
        "Note: 0 is considered to be an even index.\n",
        "\n",
        "Example:\n",
        "S = adbecf\n",
        "Print abc def"
      ]
    },
    {
      "cell_type": "code",
      "metadata": {
        "colab": {
          "base_uri": "https://localhost:8080/"
        },
        "id": "dDvqJPlFJF9B",
        "outputId": "474c1709-51c2-4edc-c134-d42fa5c231a2"
      },
      "source": [
        "n = int(input())\n",
        "for _ in range(n):\n",
        "    w = input()\n",
        "    a, b = \"\", \"\"\n",
        "    counter = 0\n",
        "    for letter in w:\n",
        "        if counter == 0:\n",
        "            a += letter\n",
        "            counter += 1 \n",
        "        else:\n",
        "            b += letter\n",
        "            counter -= 1\n",
        "    print(a, b)"
      ],
      "execution_count": null,
      "outputs": [
        {
          "output_type": "stream",
          "text": [
            "1\n",
            "adbecf\n",
            "abc def\n"
          ],
          "name": "stdout"
        }
      ]
    },
    {
      "cell_type": "markdown",
      "metadata": {
        "id": "YGzwQWPKA_cg"
      },
      "source": [
        "Task\n",
        "\n",
        "Given an array,A, of n integers, print A's elements in reverse order as a single line of space-separated numbers.\n",
        "\n",
        "Example\n",
        "\n",
        "A=[1,2,3,4]\n",
        "\n",
        "Print 4 3 2 1. Each integer is separated by one space."
      ]
    },
    {
      "cell_type": "code",
      "metadata": {
        "id": "_jGwqqdgJMKX",
        "colab": {
          "base_uri": "https://localhost:8080/"
        },
        "outputId": "9f0f13c1-81dd-452a-f4c5-861f94d11357"
      },
      "source": [
        "#!/bin/python3\n",
        "\n",
        "import math\n",
        "import os\n",
        "import random\n",
        "import re\n",
        "import sys\n",
        "\n",
        "\n",
        "\n",
        "if __name__ == '__main__':\n",
        "    n = int(input().strip())\n",
        "\n",
        "    arr = list(map(int, input().rstrip().split()))\n",
        "    for element in arr[::-1]:\n",
        "        print(element, end = \" \")\n",
        "\n",
        "    # for element in reversed(arr):\n",
        "    #   print(element, end = \" \")"
      ],
      "execution_count": null,
      "outputs": [
        {
          "output_type": "stream",
          "text": [
            "4\n",
            "4 3 2 1\n",
            "1 2 3 4 "
          ],
          "name": "stdout"
        }
      ]
    },
    {
      "cell_type": "code",
      "metadata": {
        "id": "VTdRRDXmBRbn"
      },
      "source": [
        ""
      ],
      "execution_count": null,
      "outputs": []
    }
  ]
}