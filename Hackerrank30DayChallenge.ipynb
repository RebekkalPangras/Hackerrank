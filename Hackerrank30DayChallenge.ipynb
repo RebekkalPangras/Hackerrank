{
  "nbformat": 4,
  "nbformat_minor": 0,
  "metadata": {
    "colab": {
      "name": "HackerrankPractice",
      "provenance": [],
      "authorship_tag": "ABX9TyNmySRnvpdW05GgQ3eq99CK",
      "include_colab_link": true
    },
    "kernelspec": {
      "name": "python3",
      "display_name": "Python 3"
    },
    "language_info": {
      "name": "python"
    }
  },
  "cells": [
    {
      "cell_type": "markdown",
      "metadata": {
        "id": "view-in-github",
        "colab_type": "text"
      },
      "source": [
        "<a href=\"https://colab.research.google.com/github/RebekkalPangras/Hackerrank/blob/master/Hackerrank30DayChallenge.ipynb\" target=\"_parent\"><img src=\"https://colab.research.google.com/assets/colab-badge.svg\" alt=\"Open In Colab\"/></a>"
      ]
    },
    {
      "cell_type": "markdown",
      "metadata": {
        "id": "DQVmEdzJIpzX"
      },
      "source": [
        "## Day 4\n",
        "\n",
        "Given a string, S, of length N that is indexed from 0 to N-1, print its even-indexed and odd-indexed characters as 2 space-separated strings on a single line (see the Sample below for more detail).\n",
        "Note: 0 is considered to be an even index.\n",
        "\n",
        "Example: S = adbecf \n",
        "\n",
        "Print abc def"
      ]
    },
    {
      "cell_type": "code",
      "metadata": {
        "id": "HnEBNWWKs3xI",
        "colab": {
          "base_uri": "https://localhost:8080/"
        },
        "outputId": "970f9dea-8225-42eb-e5e5-29d8504e221d"
      },
      "source": [
        "n = int(input())\n",
        "for _ in range(n):\n",
        "    w = input()\n",
        "    a, b = \"\", \"\"\n",
        "    counter = 0\n",
        "    for letter in w:\n",
        "        if counter == 0:\n",
        "            a += letter\n",
        "            counter += 1 \n",
        "        else:\n",
        "            b += letter\n",
        "            counter -= 1\n",
        "    print(a, b)"
      ],
      "execution_count": null,
      "outputs": [
        {
          "output_type": "stream",
          "text": [
            "5\n",
            "a b c d e f\n",
            "abcdef      \n",
            "dfgstsrgdhdgvt\n",
            "dgtrddv fssghgt\n",
            "fgfg\n",
            "ff gg\n",
            "dzf\n",
            "df z\n",
            "fxbxb\n",
            "fbb xx\n"
          ],
          "name": "stdout"
        }
      ]
    },
    {
      "cell_type": "markdown",
      "metadata": {
        "id": "zvGZb_f8s9Rx"
      },
      "source": [
        "## Day 5\n",
        "\n",
        "\n",
        "Given an array,A, of n integers, print A's elements in reverse order as a single line of space-separated numbers.\n",
        "\n",
        "Example\n",
        "\n",
        "A=[1,2,3,4]\n",
        "\n",
        "Print 4 3 2 1. Each integer is separated by one space."
      ]
    },
    {
      "cell_type": "code",
      "metadata": {
        "id": "DmzuXJaAs-DP",
        "colab": {
          "base_uri": "https://localhost:8080/"
        },
        "outputId": "48709549-90dc-4497-cd66-b0346700f724"
      },
      "source": [
        "#!/bin/python3\n",
        "\n",
        "import math\n",
        "import os\n",
        "import random\n",
        "import re\n",
        "import sys\n",
        "\n",
        "\n",
        "\n",
        "if __name__ == '__main__':\n",
        "    n = int(input().strip())\n",
        "\n",
        "    arr = list(map(int, input().rstrip().split()))\n",
        "    for element in arr[::-1]:\n",
        "        print(element, end = \" \")\n",
        "\n",
        "    # for element in reversed(arr):\n",
        "    #   print(element, end = \" \")"
      ],
      "execution_count": null,
      "outputs": [
        {
          "output_type": "stream",
          "text": [
            "4\n",
            "4 3 2 1 \n",
            "1 2 3 4 "
          ],
          "name": "stdout"
        }
      ]
    },
    {
      "cell_type": "markdown",
      "metadata": {
        "id": "y1xuTIX_savb"
      },
      "source": [
        "## Day 6\n",
        "\n",
        "Given a string, S, of length N that is indexed from 0 to N-1, print its even-indexed and odd-indexed characters as 2 space-separated strings on a single line (see the Sample below for more detail).\n",
        "\n",
        "Note: 0 is considered to be an even index.\n",
        "\n",
        "Example:\n",
        "S = adbecf\n",
        "Print abc def"
      ]
    },
    {
      "cell_type": "code",
      "metadata": {
        "colab": {
          "base_uri": "https://localhost:8080/"
        },
        "id": "dDvqJPlFJF9B",
        "outputId": "474c1709-51c2-4edc-c134-d42fa5c231a2"
      },
      "source": [
        "n = int(input())\n",
        "for _ in range(n):\n",
        "    w = input()\n",
        "    a, b = \"\", \"\"\n",
        "    counter = 0\n",
        "    for letter in w:\n",
        "        if counter == 0:\n",
        "            a += letter\n",
        "            counter += 1 \n",
        "        else:\n",
        "            b += letter\n",
        "            counter -= 1\n",
        "    print(a, b)"
      ],
      "execution_count": null,
      "outputs": [
        {
          "output_type": "stream",
          "text": [
            "1\n",
            "adbecf\n",
            "abc def\n"
          ],
          "name": "stdout"
        }
      ]
    },
    {
      "cell_type": "markdown",
      "metadata": {
        "id": "YGzwQWPKA_cg"
      },
      "source": [
        "## Day 7\n",
        "\n",
        "Task\n",
        "Given an array,A, of n integers, print A's elements in reverse order as a single line of space-separated numbers.\n",
        "\n",
        "Example\n",
        "\n",
        "A=[1,2,3,4]\n",
        "\n",
        "Print 4 3 2 1. Each integer is separated by one space."
      ]
    },
    {
      "cell_type": "code",
      "metadata": {
        "id": "_jGwqqdgJMKX",
        "colab": {
          "base_uri": "https://localhost:8080/"
        },
        "outputId": "9f0f13c1-81dd-452a-f4c5-861f94d11357"
      },
      "source": [
        "#!/bin/python3\n",
        "\n",
        "import math\n",
        "import os\n",
        "import random\n",
        "import re\n",
        "import sys\n",
        "\n",
        "\n",
        "\n",
        "if __name__ == '__main__':\n",
        "    n = int(input().strip())\n",
        "\n",
        "    arr = list(map(int, input().rstrip().split()))\n",
        "    for element in arr[::-1]:\n",
        "        print(element, end = \" \")\n",
        "\n",
        "    # for element in reversed(arr):\n",
        "    #   print(element, end = \" \")"
      ],
      "execution_count": null,
      "outputs": [
        {
          "output_type": "stream",
          "text": [
            "4\n",
            "4 3 2 1\n",
            "1 2 3 4 "
          ],
          "name": "stdout"
        }
      ]
    },
    {
      "cell_type": "markdown",
      "metadata": {
        "id": "9rnu-q0qhOe9"
      },
      "source": [
        "## Day 8\n",
        "\n",
        "Task\n",
        "Given n names and phone numbers, assemble a phone book that maps friends' names to their respective phone numbers. You will then be given an unknown number of names to query your phone book for. For each name queried, print the associated entry from your phone book on a new line in the form name=phoneNumber; if an entry for name is not found, print Not found instead.\n",
        "\n",
        "Sample Input\n",
        "\n",
        "  3\n",
        "\n",
        "  sam 99912222\n",
        "\n",
        "  tom 11122222\n",
        "\n",
        "  harry 12299933\n",
        "\n",
        "  sam\n",
        "\n",
        "  edward\n",
        "\n",
        "  harry\n",
        "\n",
        "Sample Output\n",
        "\n",
        "  sam=99912222\n",
        "\n",
        "  Not found\n",
        "  \n",
        "  harry=12299933"
      ]
    },
    {
      "cell_type": "code",
      "metadata": {
        "id": "VTdRRDXmBRbn",
        "colab": {
          "base_uri": "https://localhost:8080/"
        },
        "outputId": "36821771-8a8a-45ac-ab65-0375ccdc5e9e"
      },
      "source": [
        "n = int(input())\n",
        "phonebook = {}\n",
        "for _ in range(n):\n",
        "    key, value = input().split()\n",
        "    phonebook[key] = value\n",
        "\n",
        "query = input()\n",
        "while query != None:\n",
        "    if query in phonebook:\n",
        "        print(query+\"=\"+phonebook[query])\n",
        "    else:\n",
        "        print(\"Not found\")\n",
        "    try:\n",
        "        query = input()\n",
        "    except:\n",
        "        break"
      ],
      "execution_count": null,
      "outputs": [
        {
          "output_type": "stream",
          "text": [
            "3\n",
            "sam 99912222\n",
            "tom 11122222\n",
            "harry 12299933\n",
            "sam\n",
            "sam=99912222\n",
            "edward\n",
            "Not found\n",
            "harry\n",
            "harry=12299933\n",
            "\n",
            "Not found\n",
            " \n",
            "Not found\n"
          ],
          "name": "stdout"
        }
      ]
    },
    {
      "cell_type": "markdown",
      "metadata": {
        "id": "TXgBpTLUAoxf"
      },
      "source": [
        "## Day 9\n",
        "\n",
        "Recursive Method for Calculating Factorial"
      ]
    },
    {
      "cell_type": "code",
      "metadata": {
        "id": "9HueRHtCh0iY",
        "colab": {
          "base_uri": "https://localhost:8080/"
        },
        "outputId": "be6a209a-360f-476a-a31b-96dcb1a2adb3"
      },
      "source": [
        "#!/bin/python3\n",
        "\n",
        "import math\n",
        "import os\n",
        "import random\n",
        "import re\n",
        "import sys\n",
        "\n",
        "#\n",
        "# Complete the 'factorial' function below.\n",
        "#\n",
        "# The function is expected to return an INTEGER.\n",
        "# The function accepts INTEGER n as parameter.\n",
        "#\n",
        "\n",
        "def factorial(n):\n",
        "    # Write your code here\n",
        "    if n == 1:\n",
        "        return n\n",
        "    else:\n",
        "        return n*factorial(n-1)\n",
        "\n",
        "n = int(input().strip())\n",
        "result = factorial(n)\n",
        "print(result)\n"
      ],
      "execution_count": null,
      "outputs": [
        {
          "output_type": "stream",
          "text": [
            "100\n",
            "93326215443944152681699238856266700490715968264381621468592963895217599993229915608941463976156518286253697920827223758251185210916864000000000000000000000000\n"
          ],
          "name": "stdout"
        }
      ]
    },
    {
      "cell_type": "markdown",
      "metadata": {
        "id": "56TFoKSjZzAF"
      },
      "source": [
        "## Day 10: Binary Numbers\n",
        "\n",
        "Task\n",
        "\n",
        "Given a base-10 integer, n, convert it to binary (base-2). Then find and print the base-10 integer denoting the maximum number of consecutive 1's in n's binary representation. When working with different bases, it is common to show the base as a subscript.\n",
        "\n",
        "Example\n",
        "\n",
        "The binary representation of 125 is 1111101. In base 10, there are 5 and 1 consecutive ones in two groups. Print the maximum, 5."
      ]
    },
    {
      "cell_type": "code",
      "metadata": {
        "id": "cLMDEd83A4DT",
        "colab": {
          "base_uri": "https://localhost:8080/"
        },
        "outputId": "8d92a04b-acf5-403a-ab4b-bb1dc49e03ca"
      },
      "source": [
        "#!/bin/python3\n",
        "\n",
        "import math\n",
        "import os\n",
        "import random\n",
        "import re\n",
        "import sys\n",
        "\n",
        "\n",
        "\n",
        "if __name__ == '__main__':\n",
        "    n = int(input().strip())\n",
        "    b_n = bin(n).split('b')[1]\n",
        "    initial_count = 0 \n",
        "    count = 0\n",
        "    for digit in list(b_n):\n",
        "        if digit == '1':\n",
        "            count += 1\n",
        "        else:\n",
        "            if count > initial_count:\n",
        "                initial_count = count\n",
        "            count = 0\n",
        "    if count > initial_count:\n",
        "        print(count)\n",
        "    else:\n",
        "        print(initial_count)"
      ],
      "execution_count": null,
      "outputs": [
        {
          "output_type": "stream",
          "text": [
            "125\n",
            "5\n"
          ],
          "name": "stdout"
        }
      ]
    },
    {
      "cell_type": "markdown",
      "metadata": {
        "id": "8tuwpuA0pCB5"
      },
      "source": [
        "## Day 11: 2D Arrays\n",
        "\n",
        "Sample Input\n",
        "\n",
        "1 1 1 0 0 0\n",
        "0 1 0 0 0 0\n",
        "1 1 1 0 0 0\n",
        "0 0 2 4 4 0\n",
        "0 0 0 2 0 0\n",
        "0 0 1 2 4 0\n",
        "Sample Output\n",
        "\n",
        "19\n",
        "\n",
        "\n",
        "Explanation\n",
        "\n",
        "A contains the following hourglasses:\n",
        "\n",
        "1 1 1   1 1 0   1 0 0   0 0 0\n",
        "\n",
        "  1       0       0       0\n",
        "\n",
        "1 1 1   1 1 0   1 0 0   0 0 0\n",
        "\n",
        "\n",
        "0 1 0   1 0 0   0 0 0   0 0 0\n",
        "\n",
        "  1       1       0       0\n",
        "\n",
        "0 0 2   0 2 4   2 4 4   4 4 0\n",
        "\n",
        "\n",
        "1 1 1   1 1 0   1 0 0   0 0 0\n",
        "\n",
        "  0       2       4       4\n",
        "\n",
        "0 0 0   0 0 2   0 2 0   2 0 0\n",
        "\n",
        "\n",
        "0 0 2   0 2 4   2 4 4   4 4 0\n",
        "\n",
        "  0       0       2       0\n",
        "\n",
        "0 0 1   0 1 2   1 2 4   2 4 0\n",
        "\n",
        "\n",
        "The hourglass with the maximum sum (19) is:\n",
        "\n",
        "2 4 4\n",
        "  2\n",
        "1 2 4"
      ]
    },
    {
      "cell_type": "code",
      "metadata": {
        "id": "Dk7LuQx2aQSP",
        "colab": {
          "base_uri": "https://localhost:8080/"
        },
        "outputId": "21974dc9-f116-4a25-d752-0664fc379c05"
      },
      "source": [
        "#!/bin/python3\n",
        "\n",
        "import math\n",
        "import os\n",
        "import random\n",
        "import re\n",
        "import sys\n",
        "\n",
        "\n",
        "\n",
        "if __name__ == '__main__':\n",
        "\n",
        "    arr = []\n",
        "\n",
        "    for _ in range(6):\n",
        "        arr.append(list(map(int, input().rstrip().split())))\n",
        "        \n",
        "    iter_count = len(arr[0])-2\n",
        "    for i in range(iter_count):\n",
        "        for j in range(iter_count):\n",
        "            new_sum = arr[i][j] + arr[i][j+1] + arr[i][j+2] + arr[i+1][j+1] + arr[i+2][j] + arr[i+2][j+1] + arr[i+2][j+2]\n",
        "            if i == 0 and j == 0:\n",
        "                initial_sum = new_sum\n",
        "            if new_sum > initial_sum:\n",
        "                initial_sum = new_sum\n",
        "        \n",
        "    print(initial_sum)"
      ],
      "execution_count": null,
      "outputs": [
        {
          "output_type": "stream",
          "text": [
            "-1 -1 0 -9 -2 -2\n",
            "-2 -1 -6 -8 -2 -5\n",
            "-1 -1 -1 -2 -3 -4\n",
            "-1 -9 -2 -4 -4 -5\n",
            "-7 -3 -3 -2 -9 -9\n",
            "-1 -3 -1 -2 -4 -5\n",
            "-6\n"
          ],
          "name": "stdout"
        }
      ]
    },
    {
      "cell_type": "markdown",
      "metadata": {
        "id": "EMm-11lAd694"
      },
      "source": [
        "## Day 12: Inheritance\n",
        "\n",
        "You are given two classes, Person and Student, where Person is the base class and Student is the derived class. Completed code for Person and a declaration for Student are provided for you in the editor. Observe that Student inherits all the properties of Person.\n",
        "\n",
        "![image.png](data:image/png;base64,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)"
      ]
    },
    {
      "cell_type": "code",
      "metadata": {
        "id": "51e1nAoGpjox",
        "colab": {
          "base_uri": "https://localhost:8080/"
        },
        "outputId": "d46ad83b-35f7-49ad-a742-c6bdd73474d3"
      },
      "source": [
        "class Person:\n",
        "\tdef __init__(self, firstName, lastName, idNumber):\n",
        "\t\tself.firstName = firstName\n",
        "\t\tself.lastName = lastName\n",
        "\t\tself.idNumber = idNumber\n",
        "\tdef printPerson(self):\n",
        "\t\tprint(\"Name:\", self.lastName + \",\", self.firstName)\n",
        "\t\tprint(\"ID:\", self.idNumber)\n",
        "\n",
        "class Student(Person):\n",
        "    #   Class Constructor\n",
        "    #   \n",
        "    #   Parameters:\n",
        "    #   firstName - A string denoting the Person's first name.\n",
        "    #   lastName - A string denoting the Person's last name.\n",
        "    #   id - An integer denoting the Person's ID number.\n",
        "    #   scores - An array of integers denoting the Person's test scores.\n",
        "    #\n",
        "    # Write your constructor here\n",
        "    def __init__(self, firstName, lastName, idNumber, scores):\n",
        "        Person.__init__(self, firstName, lastName, idNumber)\n",
        "        self.scores = scores\n",
        "\n",
        "    #   Function Name: calculate\n",
        "    def calculate(self):\n",
        "        totalScore= sum(self.scores)\n",
        "        avg = totalScore/len(scores)\n",
        "        if avg >= 90:\n",
        "            return 'O'\n",
        "        elif avg >= 80:\n",
        "            return 'E'\n",
        "        elif avg >= 70:\n",
        "            return 'A'\n",
        "        elif avg >= 55:\n",
        "            return 'P'\n",
        "        elif avg >= 40:\n",
        "            return 'D'\n",
        "        else:\n",
        "            return 'T'\n",
        "            \n",
        "    #   Return: A character denoting the grade.\n",
        "    #\n",
        "    # Write your function here\n",
        "\n",
        "line = input().split()\n",
        "firstName = line[0]\n",
        "lastName = line[1]\n",
        "idNum = line[2]\n",
        "numScores = int(input()) # not needed for Python\n",
        "scores = list( map(int, input().split()) )\n",
        "s = Student(firstName, lastName, idNum, scores)\n",
        "s.printPerson()\n",
        "print(\"Grade:\", s.calculate())\n"
      ],
      "execution_count": null,
      "outputs": [
        {
          "output_type": "stream",
          "text": [
            "Heraldo Memelli 8135627\n",
            "2\n",
            "40 90\n",
            "Name: Memelli, Heraldo\n",
            "ID: 8135627\n",
            "Grade: P\n"
          ],
          "name": "stdout"
        }
      ]
    },
    {
      "cell_type": "markdown",
      "metadata": {
        "id": "384-NhSFSd7P"
      },
      "source": [
        "## Day 13: Abstract Classes\n",
        "\n",
        "Given a Book class and a Solution class, write a MyBook class that does the following:\n",
        "\n",
        " 1. Inherits from Book\n",
        " 2. Has a parameterized constructor\n",
        " 3. Implements the Book class' abstract display() method"
      ]
    },
    {
      "cell_type": "code",
      "metadata": {
        "id": "zQj3fspweJzL",
        "colab": {
          "base_uri": "https://localhost:8080/"
        },
        "outputId": "b11015f6-0da9-4b59-8621-0c430cd2e887"
      },
      "source": [
        "from abc import ABCMeta, abstractmethod\n",
        "class Book(object, metaclass=ABCMeta):\n",
        "    def __init__(self,title,author):\n",
        "        self.title=title\n",
        "        self.author=author   \n",
        "    @abstractmethod\n",
        "    def display(): pass\n",
        "\n",
        "#Write MyBook class\n",
        "class MyBook(Book):\n",
        "    def __init__(self, title, author, price):\n",
        "        Book.__init__(self, title, author)\n",
        "        self.price = price\n",
        "        \n",
        "    def display(self):\n",
        "        print(\"Title:\", self.title)\n",
        "        print(\"Author:\", self.author)\n",
        "        print(\"Price:\", self.price)\n",
        "\n",
        "title=input()\n",
        "author=input()\n",
        "price=int(input())\n",
        "new_novel=MyBook(title,author,price)\n",
        "new_novel.display()"
      ],
      "execution_count": null,
      "outputs": [
        {
          "output_type": "stream",
          "text": [
            "Let's talk money\n",
            "Monika Halan\n",
            "250\n",
            "Title: Let's talk money\n",
            "Author: Monika Halan\n",
            "Price: 250\n"
          ],
          "name": "stdout"
        }
      ]
    },
    {
      "cell_type": "markdown",
      "metadata": {
        "id": "1Vu3OkOENorT"
      },
      "source": [
        "## Day 14: Scope\n",
        "\n",
        "\n",
        "\n",
        "Complete the Difference class by writing the following:\n",
        "* A class constructor that takes an array of integers as a parameter and saves it to the  instance variable.\n",
        "* A computeDifference method that finds the maximum absolute difference between any  numbers in  and stores it in the  instance variable."
      ]
    },
    {
      "cell_type": "code",
      "metadata": {
        "id": "7M_5Zgd8SxXN",
        "colab": {
          "base_uri": "https://localhost:8080/"
        },
        "outputId": "108d7508-d10f-4910-cc9d-1898d42e8a23"
      },
      "source": [
        "class Difference:\n",
        "    def __init__(self, a):\n",
        "        self.__elements = a\n",
        "\n",
        "    # Add your code here\n",
        "    def computeDifference(self):\n",
        "        a = sorted(self.__elements)\n",
        "        self.maximumDifference = a[-1]-a[0]\n",
        "    \n",
        "\n",
        "# End of Difference class\n",
        "\n",
        "_ = input()\n",
        "a = [int(e) for e in input().split(' ')]\n",
        "\n",
        "d = Difference(a)\n",
        "d.computeDifference()\n",
        "\n",
        "print(d.maximumDifference)"
      ],
      "execution_count": null,
      "outputs": [
        {
          "output_type": "stream",
          "text": [
            "3\n",
            "1 5 3\n",
            "4\n"
          ],
          "name": "stdout"
        }
      ]
    },
    {
      "cell_type": "markdown",
      "metadata": {
        "id": "xi1slmyLrLGI"
      },
      "source": [
        "## Day 15: Linked List"
      ]
    },
    {
      "cell_type": "code",
      "metadata": {
        "id": "n8Ud1a15OKWY",
        "colab": {
          "base_uri": "https://localhost:8080/"
        },
        "outputId": "4fba7045-bf53-4b4a-ff76-5d88328e2c29"
      },
      "source": [
        "class Node:\n",
        "    def __init__(self,data):\n",
        "        self.data = data\n",
        "        self.next = None \n",
        "class Solution: \n",
        "    def display(self,head):\n",
        "        current = head\n",
        "        while current:\n",
        "            print(current.data,end=' ')\n",
        "            current = current.next\n",
        "\n",
        "    def insert(self,head,data): \n",
        "    #Complete this method\n",
        "        if head == None:\n",
        "            return Node(data)\n",
        "        elif head.next == None:\n",
        "            head.next = Node(data)\n",
        "        else:\n",
        "            self.insert(head.next,data)\n",
        "        return head\n",
        "\n",
        "mylist= Solution()\n",
        "T=int(input())\n",
        "head=None\n",
        "for i in range(T):\n",
        "    data=int(input())\n",
        "    head=mylist.insert(head,data)    \n",
        "mylist.display(head); \t  "
      ],
      "execution_count": null,
      "outputs": [
        {
          "output_type": "stream",
          "text": [
            "4\n",
            "2\n",
            "3\n",
            "1\n",
            "7\n",
            "2 3 1 7 "
          ],
          "name": "stdout"
        }
      ]
    },
    {
      "cell_type": "markdown",
      "metadata": {
        "id": "-7ExRJl9C2yw"
      },
      "source": [
        "## Day 16: Exceptions - String to Integer\n",
        "\n",
        "\n"
      ]
    },
    {
      "cell_type": "code",
      "metadata": {
        "id": "tBsu1u_3sUgA",
        "colab": {
          "base_uri": "https://localhost:8080/"
        },
        "outputId": "b03a9041-a5d6-46e2-a799-75ab31528a2f"
      },
      "source": [
        "#!/bin/python3\n",
        "\n",
        "import math\n",
        "import os\n",
        "import random\n",
        "import re\n",
        "import sys\n",
        "\n",
        "\n",
        "\n",
        "# if __name__ == '__main__':\n",
        "S = input()\n",
        "try:\n",
        "    print(int(S))\n",
        "except:\n",
        "    print(\"Bad String\")\n",
        "        \n"
      ],
      "execution_count": null,
      "outputs": [
        {
          "output_type": "stream",
          "text": [
            "erwe\n",
            "Bad String\n"
          ],
          "name": "stdout"
        }
      ]
    },
    {
      "cell_type": "markdown",
      "metadata": {
        "id": "EpFtR4MHYi_g"
      },
      "source": [
        "## Day 17: More Exceptions\n",
        "\n",
        "Write a Calculator class with a single method: int power(int,int). The power method takes two integers, n and p, as parameters and returns the integer result of n power p. If either n or p is negative, then the method must throw an exception with the message: n and p should be non-negative"
      ]
    },
    {
      "cell_type": "code",
      "metadata": {
        "id": "97JB60ackKMr",
        "colab": {
          "base_uri": "https://localhost:8080/"
        },
        "outputId": "3a590a5a-f5ae-4e1c-b318-375703a6f94a"
      },
      "source": [
        "class Calculator:\n",
        "    def power(self, n, p):\n",
        "        if n<0 or p<0:\n",
        "            raise Exception(\"n and p should be non-negative\")\n",
        "        else:\n",
        "            return n**p\n",
        "\n",
        "myCalculator=Calculator()\n",
        "T=int(input())\n",
        "for i in range(T):\n",
        "    n,p = map(int, input().split())\n",
        "    try:\n",
        "        ans=myCalculator.power(n,p)\n",
        "        print(ans)\n",
        "    except Exception as e:\n",
        "        print(e)   "
      ],
      "execution_count": null,
      "outputs": [
        {
          "output_type": "stream",
          "text": [
            "3\n",
            "1 4\n",
            "1\n",
            "3 9\n",
            "19683\n",
            "-1 7\n",
            "n and p should be non-negative\n"
          ],
          "name": "stdout"
        }
      ]
    },
    {
      "cell_type": "markdown",
      "metadata": {
        "id": "bRcWOr7oR92H"
      },
      "source": [
        "## Day 18: Queues and Stacks\n",
        "\n",
        "### Palindrome"
      ]
    },
    {
      "cell_type": "code",
      "metadata": {
        "id": "TkORBmL-YykY",
        "colab": {
          "base_uri": "https://localhost:8080/"
        },
        "outputId": "0ee46e46-74f4-4c35-ab8f-a1f4351849d4"
      },
      "source": [
        "import sys\n",
        "\n",
        "class Solution:\n",
        "    # Write your code here\n",
        "    def __init__(self):\n",
        "        self.queue = []\n",
        "        self.stack = []\n",
        "    \n",
        "    def pushCharacter(self, element):\n",
        "        self.stack.append(element)\n",
        "    \n",
        "    def popCharacter(self):\n",
        "        return self.stack.pop(-1)\n",
        "    \n",
        "    def enqueueCharacter(self, element):\n",
        "        self.queue.append(element)\n",
        "    \n",
        "    def dequeueCharacter(self):\n",
        "        return self.queue.pop(0)\n",
        "    \n",
        "\n",
        "# read the string s\n",
        "s=input()\n",
        "#Create the Solution class object\n",
        "obj=Solution()   \n",
        "\n",
        "l=len(s)\n",
        "# push/enqueue all the characters of string s to stack\n",
        "for i in range(l):\n",
        "    obj.pushCharacter(s[i])\n",
        "    obj.enqueueCharacter(s[i])\n",
        "    \n",
        "isPalindrome=True\n",
        "'''\n",
        "pop the top character from stack\n",
        "dequeue the first character from queue\n",
        "compare both the characters\n",
        "''' \n",
        "for i in range(l // 2):\n",
        "    if obj.popCharacter()!=obj.dequeueCharacter():\n",
        "        isPalindrome=False\n",
        "        break\n",
        "#finally print whether string s is palindrome or not.\n",
        "if isPalindrome:\n",
        "    print(\"The word, \"+s+\", is a palindrome.\")\n",
        "else:\n",
        "    print(\"The word, \"+s+\", is not a palindrome.\")    "
      ],
      "execution_count": null,
      "outputs": [
        {
          "output_type": "stream",
          "text": [
            "madam\n",
            "The word, madam, is a palindrome.\n"
          ],
          "name": "stdout"
        }
      ]
    },
    {
      "cell_type": "markdown",
      "metadata": {
        "id": "itGEZG3qn2zf"
      },
      "source": [
        "## Day 19: Interfaces\n",
        "\n",
        "Complete the implementation of Calculator class, which implements the AdvancedArithmetic interface. The implementation for the divisorSum(n) method must return the sum of all divisors of n"
      ]
    },
    {
      "cell_type": "code",
      "metadata": {
        "id": "rs-MWjUTSINc",
        "colab": {
          "base_uri": "https://localhost:8080/"
        },
        "outputId": "3dc3245d-dc77-4d00-b8bb-96e66bc43c65"
      },
      "source": [
        "class AdvancedArithmetic(object):\n",
        "    def divisorSum(n):\n",
        "        raise NotImplementedError\n",
        "\n",
        "class Calculator(AdvancedArithmetic):\n",
        "    def divisorSum(self, n):\n",
        "        divisor_sum = 0\n",
        "        for i in range(1, n+1):\n",
        "            if n%i == 0:\n",
        "                divisor_sum += i\n",
        "        return divisor_sum\n",
        "\n",
        "\n",
        "n = int(input())\n",
        "my_calculator = Calculator()\n",
        "s = my_calculator.divisorSum(n)\n",
        "print(\"I implemented: \" + type(my_calculator).__bases__[0].__name__)\n",
        "print(s)"
      ],
      "execution_count": null,
      "outputs": [
        {
          "output_type": "stream",
          "text": [
            "6\n",
            "I implemented: AdvancedArithmetic\n",
            "12\n"
          ],
          "name": "stdout"
        }
      ]
    },
    {
      "cell_type": "markdown",
      "metadata": {
        "id": "AXfGK6rj89Jf"
      },
      "source": [
        "## Day 20: Sorting\n",
        "\n",
        "Bubble sort"
      ]
    },
    {
      "cell_type": "code",
      "metadata": {
        "id": "pRXJhrP2n_Vt",
        "colab": {
          "base_uri": "https://localhost:8080/"
        },
        "outputId": "a76f3087-fd0e-4c6b-dbe2-eb81d2a3d6b0"
      },
      "source": [
        "#!/bin/python3\n",
        "\n",
        "import math\n",
        "import os\n",
        "import random\n",
        "import re\n",
        "import sys\n",
        "\n",
        "\n",
        "\n",
        "if __name__ == '__main__':\n",
        "    n = int(input().strip())\n",
        "\n",
        "    a = list(map(int, input().rstrip().split()))\n",
        "\n",
        "    # Write your code here\n",
        "    num_swaps = 0\n",
        "    for i in range(len(a)):\n",
        "        for j in range(i, len(a)):\n",
        "            if a[i] > a[j]:\n",
        "                temp = a[i]\n",
        "                a[i] = a[j]\n",
        "                a[j] = temp\n",
        "                num_swaps += 1\n",
        "    print('Array is sorted in',num_swaps,'swaps.')\n",
        "    print('First Element:', a[0])\n",
        "    print('Last Element:', a[len(a)-1])"
      ],
      "execution_count": null,
      "outputs": [
        {
          "output_type": "stream",
          "text": [
            "5\n",
            "9 4 5 0 2\n",
            "Array is sorted in 8 swaps.\n",
            "First Element: 0\n",
            "Last Element: 9\n"
          ],
          "name": "stdout"
        }
      ]
    },
    {
      "cell_type": "markdown",
      "metadata": {
        "id": "dAnDjIx88XAX"
      },
      "source": [
        "## Day 21: Generics\n",
        "\n",
        "Generics was allowed to be done in Java\n",
        "\n",
        "\n",
        "    import java.util.*;\n",
        "\n",
        "    class Printer <T> {\n",
        "\n",
        "        /**\n",
        "        *    Method Name: printArray\n",
        "        *    Print each element of the generic array on a new line. Do not return anything.\n",
        "        *    @param A generic array\n",
        "        **/\n",
        "        \n",
        "        // Write your code here\n",
        "        void printArray(T[] arr) {\n",
        "            for (T element: arr) {\n",
        "                System.out.println(element);\n",
        "            }\n",
        "        }\n",
        "\n",
        "    }\n",
        "\n",
        "    public class Generics {\n",
        "        \n",
        "        public static void main(String args[]){\n",
        "            Scanner scanner = new Scanner(System.in);\n",
        "            int n = scanner.nextInt();\n",
        "            Integer[] intArray = new Integer[n];\n",
        "            for (int i = 0; i < n; i++) {\n",
        "                intArray[i] = scanner.nextInt();\n",
        "            }\n",
        "\n",
        "            n = scanner.nextInt();\n",
        "            String[] stringArray = new String[n];\n",
        "            for (int i = 0; i < n; i++) {\n",
        "                stringArray[i] = scanner.next();\n",
        "            }\n",
        "            \n",
        "            Printer<Integer> intPrinter = new Printer<Integer>();\n",
        "            Printer<String> stringPrinter = new Printer<String>();\n",
        "            intPrinter.printArray( intArray  );\n",
        "            stringPrinter.printArray( stringArray );\n",
        "            if(Printer.class.getDeclaredMethods().length > 1){\n",
        "                System.out.println(\"The Printer class should only have 1 method named printArray.\");\n",
        "        }\n",
        "      } \n",
        "    }\n",
        "\n",
        "OUTPUT:\n",
        "\n",
        "    Input (stdin)\n",
        "    3\n",
        "    1\n",
        "    2\n",
        "    3\n",
        "    2\n",
        "    Hello\n",
        "    World\n",
        "\n",
        "    Expected Output\n",
        "    1\n",
        "    2\n",
        "    3\n",
        "    Hello\n",
        "    World"
      ]
    },
    {
      "cell_type": "markdown",
      "metadata": {
        "id": "2LDZUDMVTHJX"
      },
      "source": [
        "## Day 22: Binary Search Trees\n",
        "\n",
        "The height of a binary search tree is the number of edges between the tree's root and its furthest leaf. You are given a pointer, root, pointing to the root of a binary search tree. Complete the getHeight function provided in your editor so that it returns the height of the binary search tree."
      ]
    },
    {
      "cell_type": "code",
      "metadata": {
        "id": "gmVVMm9M9CgJ",
        "colab": {
          "base_uri": "https://localhost:8080/"
        },
        "outputId": "cbcbc13c-73d1-4555-fc24-5b766c298e92"
      },
      "source": [
        "class Node:\n",
        "    def __init__(self,data):\n",
        "        self.right=self.left=None\n",
        "        self.data = data\n",
        "class Solution:\n",
        "    def insert(self,root,data):\n",
        "        if root==None:\n",
        "            return Node(data)\n",
        "        else:\n",
        "            if data<=root.data:\n",
        "                cur=self.insert(root.left,data)\n",
        "                root.left=cur\n",
        "            else:\n",
        "                cur=self.insert(root.right,data)\n",
        "                root.right=cur\n",
        "        return root\n",
        "\n",
        "    def getHeight(self,root):\n",
        "        #Write your code here\n",
        "        if root == None:\n",
        "            return -1\n",
        "        return 1 + max(self.getHeight(root.left), self.getHeight(root.right))\n",
        "T=int(input())\n",
        "myTree=Solution()\n",
        "root=None\n",
        "for i in range(T):\n",
        "    data=int(input())\n",
        "    root=myTree.insert(root,data)\n",
        "height=myTree.getHeight(root)\n",
        "print(height)       "
      ],
      "execution_count": null,
      "outputs": [
        {
          "output_type": "stream",
          "text": [
            "4\n",
            "1\n",
            "2\n",
            "3\n",
            "4\n",
            "3\n"
          ],
          "name": "stdout"
        }
      ]
    },
    {
      "cell_type": "markdown",
      "metadata": {
        "id": "5CCsmc_KKxsr"
      },
      "source": [
        "## Day 23: BST Level-Order Traversal\n",
        "\n"
      ]
    },
    {
      "cell_type": "code",
      "metadata": {
        "id": "e44-CjsmTUkM",
        "colab": {
          "base_uri": "https://localhost:8080/"
        },
        "outputId": "21a606d3-947b-431f-ae62-080ec6c63b82"
      },
      "source": [
        "import sys\n",
        "\n",
        "class Node:\n",
        "    def __init__(self,data):\n",
        "        self.right=self.left=None\n",
        "        self.data = data\n",
        "class Solution:\n",
        "    def insert(self,root,data):\n",
        "        if root==None:\n",
        "            return Node(data)\n",
        "        else:\n",
        "            if data<=root.data:\n",
        "                cur=self.insert(root.left,data)\n",
        "                root.left=cur\n",
        "            else:\n",
        "                cur=self.insert(root.right,data)\n",
        "                root.right=cur\n",
        "        return root\n",
        "\n",
        "    def levelOrder(self,root):\n",
        "        #Write your code here\n",
        "        queue = [root]\n",
        "        while len(queue)>=1:\n",
        "            cur = queue.pop(0)\n",
        "            print(cur.data, end = \" \")\n",
        "            if cur.left: queue.append(cur.left)\n",
        "            if cur.right: queue.append(cur.right)\n",
        "\n",
        "T=int(input())\n",
        "myTree=Solution()\n",
        "root=None\n",
        "for i in range(T):\n",
        "    data=int(input())\n",
        "    root=myTree.insert(root,data)\n",
        "myTree.levelOrder(root)\n"
      ],
      "execution_count": null,
      "outputs": [
        {
          "output_type": "stream",
          "text": [
            "6\n",
            "3\n",
            "5\n",
            "4\n",
            "7\n",
            "2\n",
            "1\n",
            "3 2 5 1 4 7 "
          ],
          "name": "stdout"
        }
      ]
    },
    {
      "cell_type": "markdown",
      "metadata": {
        "id": "VFzofEi9qhKV"
      },
      "source": [
        "## Day 24: More Linked Lists\n",
        "\n",
        "\n",
        "removeDuplicates in a sorted list"
      ]
    },
    {
      "cell_type": "code",
      "metadata": {
        "id": "6Ko8W9jFK5ma",
        "colab": {
          "base_uri": "https://localhost:8080/"
        },
        "outputId": "e02ea641-685a-4ce6-9c12-61994708fe67"
      },
      "source": [
        "class Node:\n",
        "    def __init__(self,data):\n",
        "        self.data = data\n",
        "        self.next = None \n",
        "class Solution: \n",
        "    def insert(self,head,data):\n",
        "            p = Node(data)           \n",
        "            if head==None:\n",
        "                head=p\n",
        "            elif head.next==None:\n",
        "                head.next=p\n",
        "            else:\n",
        "                start=head\n",
        "                while(start.next!=None):\n",
        "                    start=start.next\n",
        "                start.next=p\n",
        "            return head  \n",
        "    def display(self,head):\n",
        "        current = head\n",
        "        while current:\n",
        "            print(current.data,end=' ')\n",
        "            current = current.next\n",
        "\n",
        "    def removeDuplicates(self,head):\n",
        "        curr = head\n",
        "        while curr.next != None:\n",
        "            # print(curr.data, curr.next.data)\n",
        "            if curr.data == curr.next.data:\n",
        "                temp = curr.next\n",
        "                curr.next = temp.next\n",
        "            else:\n",
        "              curr = curr.next\n",
        "        return head\n",
        "\n",
        "mylist= Solution()\n",
        "T=int(input())\n",
        "head=None\n",
        "for i in range(T):\n",
        "    data=int(input())\n",
        "    head=mylist.insert(head,data)    \n",
        "head=mylist.removeDuplicates(head)\n",
        "mylist.display(head); "
      ],
      "execution_count": null,
      "outputs": [
        {
          "output_type": "stream",
          "text": [
            "7\n",
            "1\n",
            "1\n",
            "1\n",
            "1\n",
            "1\n",
            "1\n",
            "1\n",
            "1 "
          ],
          "name": "stdout"
        }
      ]
    },
    {
      "cell_type": "markdown",
      "metadata": {
        "id": "Wsct3afSqGZ6"
      },
      "source": [
        "## Day 25: Running Time and Complexity\n",
        "\n",
        "Prime number"
      ]
    },
    {
      "cell_type": "code",
      "metadata": {
        "id": "PbcsoC_PqvYf",
        "colab": {
          "base_uri": "https://localhost:8080/"
        },
        "outputId": "cf8f4db7-cbd1-4b7f-92bf-21e5c3bbcc02"
      },
      "source": [
        "def is_prime(n, div):\n",
        "    if n%div == 0 and n!=div:\n",
        "        print('Not prime')\n",
        "        return\n",
        "    if n==div:\n",
        "        print('Prime')\n",
        "        return\n",
        "    if n%div !=0:\n",
        "        is_prime(n, div+1)\n",
        "\n",
        "T = int(input())\n",
        "for _ in range(T):\n",
        "    n = int(input())\n",
        "    if n < 2:\n",
        "        print('Not prime')\n",
        "    else:\n",
        "        is_prime(n, 2)\n"
      ],
      "execution_count": null,
      "outputs": [
        {
          "output_type": "stream",
          "text": [
            "3\n",
            "2\n",
            "Prime\n",
            "5\n",
            "Prime\n",
            "6\n",
            "Not prime\n"
          ],
          "name": "stdout"
        }
      ]
    },
    {
      "cell_type": "markdown",
      "metadata": {
        "id": "R9go5X6aoZoO"
      },
      "source": [
        "## Day 26: Nested Logic\n",
        "\n",
        "Task\n",
        "Your local library needs your help! Given the expected and actual return dates for a library book, create a program that calculates the fine (if any). The fee structure is as follows:\n",
        "\n",
        "  1. If the book is returned on or before the expected return date, no fine will be charged (i.e.: fine=0.\n",
        "  2. If the book is returned after the expected return day but still within the same calendar month and year as the expected return date,fine = 15*days .\n",
        "  3. If the book is returned after the expected return month but still within the same calendar year as the expected return date, the fine = 500*months.\n",
        "  4. If the book is returned after the calendar year in which it was expected, there is a fixed fine of "
      ]
    },
    {
      "cell_type": "code",
      "metadata": {
        "id": "63yS605CqL7F",
        "colab": {
          "base_uri": "https://localhost:8080/"
        },
        "outputId": "747897f2-a552-41dc-b374-eeaa00983b4c"
      },
      "source": [
        "return_day, return_month, return_year = map(int,input().split())\n",
        "expected_day, expected_month, expected_year = map(int,input().split())\n",
        "\n",
        "if return_year<expected_year:\n",
        "    print(0)\n",
        "elif return_year>expected_year:\n",
        "    print(10000)\n",
        "else:\n",
        "    if return_month > expected_month:\n",
        "        print(500*(return_month-expected_month))\n",
        "    else:\n",
        "        if return_day > expected_day:\n",
        "            print(15*(return_day-expected_day))\n",
        "        else:\n",
        "            print(0)"
      ],
      "execution_count": null,
      "outputs": [
        {
          "output_type": "stream",
          "text": [
            "9 6 2015\n",
            "6 6 2014\n",
            "10000\n"
          ],
          "name": "stdout"
        }
      ]
    },
    {
      "cell_type": "markdown",
      "metadata": {
        "id": "zeQJBYtlyOcf"
      },
      "source": [
        "## Day 27: Testing"
      ]
    },
    {
      "cell_type": "code",
      "metadata": {
        "id": "eBB92hZuo-3U",
        "outputId": "0ff89767-01af-4726-a34c-5aa253ae27e1",
        "colab": {
          "base_uri": "https://localhost:8080/"
        }
      },
      "source": [
        "def minimum_index(seq):\n",
        "    if len(seq) == 0:\n",
        "        raise ValueError(\"Cannot get the minimum value index from an empty sequence\")\n",
        "    min_idx = 0\n",
        "    for i in range(1, len(seq)):\n",
        "        if seq[i] < seq[min_idx]:\n",
        "            min_idx = i\n",
        "    return min_idx\n",
        "\n",
        "class TestDataEmptyArray:\n",
        "    @classmethod\n",
        "    def get_array(cls):\n",
        "        return []\n",
        "    \n",
        "class TestDataUniqueValues:\n",
        "    @classmethod\n",
        "    def get_array(cls):\n",
        "        return [1,2,3]\n",
        "    \n",
        "    @classmethod\n",
        "    def get_expected_result(cls):\n",
        "        return 0\n",
        "    \n",
        "class TestDataExactlyTwoDifferentMinimums():\n",
        "    @classmethod\n",
        "    def get_array(cls):\n",
        "        return [1,1,2]\n",
        "    \n",
        "    @classmethod\n",
        "    def get_expected_result(cls):\n",
        "        return 0\n",
        "    \n",
        "\n",
        "def TestWithEmptyArray():\n",
        "    try:\n",
        "        seq = TestDataEmptyArray.get_array()\n",
        "        result = minimum_index(seq)\n",
        "    except ValueError as e:\n",
        "        pass\n",
        "    else:\n",
        "        assert False\n",
        "\n",
        "\n",
        "def TestWithUniqueValues():\n",
        "    seq = TestDataUniqueValues.get_array()\n",
        "    assert len(seq) >= 2\n",
        "\n",
        "    assert len(list(set(seq))) == len(seq)\n",
        "\n",
        "    expected_result = TestDataUniqueValues.get_expected_result()\n",
        "    result = minimum_index(seq)\n",
        "    assert result == expected_result\n",
        "\n",
        "\n",
        "def TestiWithExactyTwoDifferentMinimums():\n",
        "    seq = TestDataExactlyTwoDifferentMinimums.get_array()\n",
        "    assert len(seq) >= 2\n",
        "    tmp = sorted(seq)\n",
        "    assert tmp[0] == tmp[1] and (len(tmp) == 2 or tmp[1] < tmp[2])\n",
        "\n",
        "    expected_result = TestDataExactlyTwoDifferentMinimums.get_expected_result()\n",
        "    result = minimum_index(seq)\n",
        "    assert result == expected_result\n",
        "\n",
        "TestWithEmptyArray()\n",
        "TestWithUniqueValues()\n",
        "TestiWithExactyTwoDifferentMinimums()\n",
        "print(\"OK\")"
      ],
      "execution_count": 1,
      "outputs": [
        {
          "output_type": "stream",
          "text": [
            "OK\n"
          ],
          "name": "stdout"
        }
      ]
    },
    {
      "cell_type": "code",
      "metadata": {
        "id": "igN8Qp_KybDb"
      },
      "source": [
        ""
      ],
      "execution_count": null,
      "outputs": []
    }
  ]
}