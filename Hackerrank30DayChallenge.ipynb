{
  "nbformat": 4,
  "nbformat_minor": 0,
  "metadata": {
    "colab": {
      "name": "HackerrankPractice",
      "provenance": [],
      "authorship_tag": "ABX9TyO6viLFb+qmJN15ff1menys",
      "include_colab_link": true
    },
    "kernelspec": {
      "name": "python3",
      "display_name": "Python 3"
    },
    "language_info": {
      "name": "python"
    }
  },
  "cells": [
    {
      "cell_type": "markdown",
      "metadata": {
        "id": "view-in-github",
        "colab_type": "text"
      },
      "source": [
        "<a href=\"https://colab.research.google.com/github/RebekkalPangras/Hackerrank/blob/master/Hackerrank30DayChallenge.ipynb\" target=\"_parent\"><img src=\"https://colab.research.google.com/assets/colab-badge.svg\" alt=\"Open In Colab\"/></a>"
      ]
    },
    {
      "cell_type": "markdown",
      "metadata": {
        "id": "DQVmEdzJIpzX"
      },
      "source": [
        "1. Task\n",
        "Given a string, S, of length N that is indexed from 0 to N-1, print its even-indexed and odd-indexed characters as 2 space-separated strings on a single line (see the Sample below for more detail).\n",
        "\n",
        "Note: 0 is considered to be an even index.\n",
        "\n",
        "Example:\n",
        "S = adbecf\n",
        "Print abc def"
      ]
    },
    {
      "cell_type": "code",
      "metadata": {
        "colab": {
          "base_uri": "https://localhost:8080/"
        },
        "id": "dDvqJPlFJF9B",
        "outputId": "474c1709-51c2-4edc-c134-d42fa5c231a2"
      },
      "source": [
        "n = int(input())\n",
        "for _ in range(n):\n",
        "    w = input()\n",
        "    a, b = \"\", \"\"\n",
        "    counter = 0\n",
        "    for letter in w:\n",
        "        if counter == 0:\n",
        "            a += letter\n",
        "            counter += 1 \n",
        "        else:\n",
        "            b += letter\n",
        "            counter -= 1\n",
        "    print(a, b)"
      ],
      "execution_count": null,
      "outputs": [
        {
          "output_type": "stream",
          "text": [
            "1\n",
            "adbecf\n",
            "abc def\n"
          ],
          "name": "stdout"
        }
      ]
    },
    {
      "cell_type": "markdown",
      "metadata": {
        "id": "YGzwQWPKA_cg"
      },
      "source": [
        "2. Task\n",
        "Given an array,A, of n integers, print A's elements in reverse order as a single line of space-separated numbers.\n",
        "\n",
        "Example\n",
        "\n",
        "A=[1,2,3,4]\n",
        "\n",
        "Print 4 3 2 1. Each integer is separated by one space."
      ]
    },
    {
      "cell_type": "code",
      "metadata": {
        "id": "_jGwqqdgJMKX",
        "colab": {
          "base_uri": "https://localhost:8080/"
        },
        "outputId": "9f0f13c1-81dd-452a-f4c5-861f94d11357"
      },
      "source": [
        "#!/bin/python3\n",
        "\n",
        "import math\n",
        "import os\n",
        "import random\n",
        "import re\n",
        "import sys\n",
        "\n",
        "\n",
        "\n",
        "if __name__ == '__main__':\n",
        "    n = int(input().strip())\n",
        "\n",
        "    arr = list(map(int, input().rstrip().split()))\n",
        "    for element in arr[::-1]:\n",
        "        print(element, end = \" \")\n",
        "\n",
        "    # for element in reversed(arr):\n",
        "    #   print(element, end = \" \")"
      ],
      "execution_count": null,
      "outputs": [
        {
          "output_type": "stream",
          "text": [
            "4\n",
            "4 3 2 1\n",
            "1 2 3 4 "
          ],
          "name": "stdout"
        }
      ]
    },
    {
      "cell_type": "markdown",
      "metadata": {
        "id": "9rnu-q0qhOe9"
      },
      "source": [
        "## Day 8\n",
        "\n",
        "Task\n",
        "Given n names and phone numbers, assemble a phone book that maps friends' names to their respective phone numbers. You will then be given an unknown number of names to query your phone book for. For each name queried, print the associated entry from your phone book on a new line in the form name=phoneNumber; if an entry for name is not found, print Not found instead.\n",
        "\n",
        "Sample Input\n",
        "\n",
        "  3\n",
        "\n",
        "  sam 99912222\n",
        "\n",
        "  tom 11122222\n",
        "\n",
        "  harry 12299933\n",
        "\n",
        "  sam\n",
        "\n",
        "  edward\n",
        "\n",
        "  harry\n",
        "\n",
        "Sample Output\n",
        "\n",
        "  sam=99912222\n",
        "\n",
        "  Not found\n",
        "  \n",
        "  harry=12299933"
      ]
    },
    {
      "cell_type": "code",
      "metadata": {
        "id": "VTdRRDXmBRbn",
        "outputId": "36821771-8a8a-45ac-ab65-0375ccdc5e9e",
        "colab": {
          "base_uri": "https://localhost:8080/"
        }
      },
      "source": [
        "n = int(input())\n",
        "phonebook = {}\n",
        "for _ in range(n):\n",
        "    key, value = input().split()\n",
        "    phonebook[key] = value\n",
        "\n",
        "query = input()\n",
        "while query != None:\n",
        "    if query in phonebook:\n",
        "        print(query+\"=\"+phonebook[query])\n",
        "    else:\n",
        "        print(\"Not found\")\n",
        "    try:\n",
        "        query = input()\n",
        "    except:\n",
        "        break"
      ],
      "execution_count": 1,
      "outputs": [
        {
          "output_type": "stream",
          "text": [
            "3\n",
            "sam 99912222\n",
            "tom 11122222\n",
            "harry 12299933\n",
            "sam\n",
            "sam=99912222\n",
            "edward\n",
            "Not found\n",
            "harry\n",
            "harry=12299933\n",
            "\n",
            "Not found\n",
            " \n",
            "Not found\n"
          ],
          "name": "stdout"
        }
      ]
    },
    {
      "cell_type": "code",
      "metadata": {
        "id": "9HueRHtCh0iY"
      },
      "source": [
        ""
      ],
      "execution_count": null,
      "outputs": []
    }
  ]
}